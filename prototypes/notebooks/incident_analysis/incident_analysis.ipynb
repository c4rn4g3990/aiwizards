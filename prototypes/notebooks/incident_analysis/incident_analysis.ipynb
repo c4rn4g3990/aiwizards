{
 "cells": [
  {
   "cell_type": "markdown",
   "source": [
    "⚠️ Need to have .env file in the project root with OPENAI_API_KEY={your_openai_key}"
   ],
   "metadata": {
    "collapsed": false
   }
  },
  {
   "cell_type": "code",
   "execution_count": null,
   "outputs": [],
   "source": [
    "!pip install langchain openai python-dotenv"
   ],
   "metadata": {
    "collapsed": false
   }
  },
  {
   "cell_type": "code",
   "execution_count": 5,
   "outputs": [
    {
     "name": "stdout",
     "output_type": "stream",
     "text": [
      "Summary:\n",
      "\n",
      "On July 1, 2023, a critical incident occurred in the CorePay application, impacting payment processing. The issue was identified as a bug in the payment validation process. The development team promptly developed and deployed a fix within 6 hours. The incident has been resolved, and payment processing functionality has been restored. The incident report recommends strengthening code review and testing processes, enhancing application monitoring, and implementing a rollback strategy for future releases.\n",
      "\n",
      "Email Thread Summary:\n",
      "\n",
      "- Jason Bourne, a production support engineer, alerted Linda Reed, the production support manager, about an issue in the CorePay application affecting payment processing.\n",
      "- Linda informed Kevin Murray, the application development manager, who mobilized his team to investigate the code changes in the latest release.\n",
      "- Neil Patel, an application developer, discovered an unusual change related to payment validations and suspected it to be the cause of the issue.\n",
      "- Kevin confirmed that the unusual change was indeed the root cause and informed Linda about the ongoing fix development.\n",
      "- Linda escalated the incident to John Clarkson, the VP of IT, and assured him that the teams were working on resolving the issue.\n",
      "- Neil confirmed the fix was ready for testing, and Melissa Turner, the testing manager, initiated the testing process.\n",
      "- Melissa confirmed that the fix passed testing, and Linda instructed Jason to proceed with the deployment.\n",
      "- Jason successfully deployed the fix, and Linda updated John on the resolution progress.\n",
      "- John expressed his appreciation for the teams' efforts and requested continued monitoring of the situation.\n",
      "\n",
      "Current Status: The incident has been resolved, and the fix has been successfully deployed. Payment processing functionality has been restored. The teams will continue to monitor the situation closely.\n"
     ]
    }
   ],
   "source": [
    "import os\n",
    "from dotenv import load_dotenv\n",
    "from langchain.chat_models import ChatOpenAI\n",
    "from langchain.schema import HumanMessage\n",
    "from langchain.prompts import (\n",
    "    ChatPromptTemplate,\n",
    "    SystemMessagePromptTemplate,\n",
    "    HumanMessagePromptTemplate\n",
    ")\n",
    "from langchain.chains import LLMChain\n",
    "\n",
    "load_dotenv()\n",
    "openai_api_key = os.getenv('OPENAI_API_KEY')\n",
    "\n",
    "chat = ChatOpenAI(temperature = 0, openai_api_key=openai_api_key)\n",
    "system_message_prompt = SystemMessagePromptTemplate.from_template_file('data/system_prompt.txt', [])\n",
    "with open('data/email_thread.txt', 'r') as file:\n",
    "    thread = file.read()\n",
    "\n",
    "with open('data/incident_report.txt', 'r') as file:\n",
    "    report = file.read()\n",
    "\n",
    "email_template = \"\"\"The following is the email thread discussing the incident:\n",
    "{thread}\"\"\"\n",
    "\n",
    "report_template = \"\"\"The following is the corresponding incident report:\n",
    "{report}\"\"\"\n",
    "\n",
    "chat_prompt = ChatPromptTemplate.from_messages(\n",
    "    [system_message_prompt]\n",
    "    + HumanMessagePromptTemplate.from_template(email_template).format_messages(thread = thread)\n",
    "    + HumanMessagePromptTemplate.from_template(report_template).format_messages(report = report)\n",
    "    + [HumanMessage(content = 'Summarize the incident report and email thread in readable and concise way, so that I could easily understand the incident root cause and the current status')]\n",
    ")\n",
    "\n",
    "conversation = LLMChain(prompt=chat_prompt, llm=chat)\n",
    "\n",
    "response = conversation.predict()\n",
    "\n",
    "print(response)"
   ],
   "metadata": {
    "collapsed": false,
    "ExecuteTime": {
     "end_time": "2023-07-02T01:10:52.700342Z",
     "start_time": "2023-07-02T01:10:38.987397Z"
    }
   }
  }
 ],
 "metadata": {
  "kernelspec": {
   "display_name": "Python 3",
   "language": "python",
   "name": "python3"
  },
  "language_info": {
   "codemirror_mode": {
    "name": "ipython",
    "version": 2
   },
   "file_extension": ".py",
   "mimetype": "text/x-python",
   "name": "python",
   "nbconvert_exporter": "python",
   "pygments_lexer": "ipython2",
   "version": "2.7.6"
  }
 },
 "nbformat": 4,
 "nbformat_minor": 0
}
