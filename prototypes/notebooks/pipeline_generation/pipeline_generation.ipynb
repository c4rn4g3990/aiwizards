{
 "cells": [
  {
   "cell_type": "markdown",
   "source": [
    "⚠️ Need to have .env file in the project root with OPENAI_API_KEY={your_openai_key}"
   ],
   "metadata": {
    "collapsed": false
   }
  },
  {
   "cell_type": "code",
   "execution_count": 24,
   "outputs": [
    {
     "name": "stdout",
     "output_type": "stream",
     "text": [
      "Requirement already satisfied: langchain in /Users/elantsov/miniconda3/envs/ai-wizards/lib/python3.10/site-packages (0.0.217)\r\n",
      "Requirement already satisfied: openai in /Users/elantsov/miniconda3/envs/ai-wizards/lib/python3.10/site-packages (0.27.8)\r\n",
      "Collecting python-dotenv\r\n",
      "  Using cached python_dotenv-1.0.0-py3-none-any.whl (19 kB)\r\n",
      "Requirement already satisfied: PyYAML>=5.4.1 in /Users/elantsov/miniconda3/envs/ai-wizards/lib/python3.10/site-packages (from langchain) (6.0)\r\n",
      "Requirement already satisfied: SQLAlchemy<3,>=1.4 in /Users/elantsov/miniconda3/envs/ai-wizards/lib/python3.10/site-packages (from langchain) (2.0.17)\r\n",
      "Requirement already satisfied: aiohttp<4.0.0,>=3.8.3 in /Users/elantsov/miniconda3/envs/ai-wizards/lib/python3.10/site-packages (from langchain) (3.8.4)\r\n",
      "Requirement already satisfied: async-timeout<5.0.0,>=4.0.0 in /Users/elantsov/miniconda3/envs/ai-wizards/lib/python3.10/site-packages (from langchain) (4.0.2)\r\n",
      "Requirement already satisfied: dataclasses-json<0.6.0,>=0.5.7 in /Users/elantsov/miniconda3/envs/ai-wizards/lib/python3.10/site-packages (from langchain) (0.5.8)\r\n",
      "Requirement already satisfied: langchainplus-sdk>=0.0.17 in /Users/elantsov/miniconda3/envs/ai-wizards/lib/python3.10/site-packages (from langchain) (0.0.17)\r\n",
      "Requirement already satisfied: numexpr<3.0.0,>=2.8.4 in /Users/elantsov/miniconda3/envs/ai-wizards/lib/python3.10/site-packages (from langchain) (2.8.4)\r\n",
      "Requirement already satisfied: numpy<2,>=1 in /Users/elantsov/miniconda3/envs/ai-wizards/lib/python3.10/site-packages (from langchain) (1.25.0)\r\n",
      "Requirement already satisfied: openapi-schema-pydantic<2.0,>=1.2 in /Users/elantsov/miniconda3/envs/ai-wizards/lib/python3.10/site-packages (from langchain) (1.2.4)\r\n",
      "Requirement already satisfied: pydantic<2,>=1 in /Users/elantsov/miniconda3/envs/ai-wizards/lib/python3.10/site-packages (from langchain) (1.10.9)\r\n",
      "Requirement already satisfied: requests<3,>=2 in /Users/elantsov/miniconda3/envs/ai-wizards/lib/python3.10/site-packages (from langchain) (2.29.0)\r\n",
      "Requirement already satisfied: tenacity<9.0.0,>=8.1.0 in /Users/elantsov/miniconda3/envs/ai-wizards/lib/python3.10/site-packages (from langchain) (8.2.2)\r\n",
      "Requirement already satisfied: tqdm in /Users/elantsov/miniconda3/envs/ai-wizards/lib/python3.10/site-packages (from openai) (4.65.0)\r\n",
      "Requirement already satisfied: attrs>=17.3.0 in /Users/elantsov/miniconda3/envs/ai-wizards/lib/python3.10/site-packages (from aiohttp<4.0.0,>=3.8.3->langchain) (22.1.0)\r\n",
      "Requirement already satisfied: charset-normalizer<4.0,>=2.0 in /Users/elantsov/miniconda3/envs/ai-wizards/lib/python3.10/site-packages (from aiohttp<4.0.0,>=3.8.3->langchain) (2.0.4)\r\n",
      "Requirement already satisfied: multidict<7.0,>=4.5 in /Users/elantsov/miniconda3/envs/ai-wizards/lib/python3.10/site-packages (from aiohttp<4.0.0,>=3.8.3->langchain) (6.0.4)\r\n",
      "Requirement already satisfied: yarl<2.0,>=1.0 in /Users/elantsov/miniconda3/envs/ai-wizards/lib/python3.10/site-packages (from aiohttp<4.0.0,>=3.8.3->langchain) (1.9.2)\r\n",
      "Requirement already satisfied: frozenlist>=1.1.1 in /Users/elantsov/miniconda3/envs/ai-wizards/lib/python3.10/site-packages (from aiohttp<4.0.0,>=3.8.3->langchain) (1.3.3)\r\n",
      "Requirement already satisfied: aiosignal>=1.1.2 in /Users/elantsov/miniconda3/envs/ai-wizards/lib/python3.10/site-packages (from aiohttp<4.0.0,>=3.8.3->langchain) (1.3.1)\r\n",
      "Requirement already satisfied: marshmallow<4.0.0,>=3.3.0 in /Users/elantsov/miniconda3/envs/ai-wizards/lib/python3.10/site-packages (from dataclasses-json<0.6.0,>=0.5.7->langchain) (3.19.0)\r\n",
      "Requirement already satisfied: marshmallow-enum<2.0.0,>=1.5.1 in /Users/elantsov/miniconda3/envs/ai-wizards/lib/python3.10/site-packages (from dataclasses-json<0.6.0,>=0.5.7->langchain) (1.5.1)\r\n",
      "Requirement already satisfied: typing-inspect>=0.4.0 in /Users/elantsov/miniconda3/envs/ai-wizards/lib/python3.10/site-packages (from dataclasses-json<0.6.0,>=0.5.7->langchain) (0.9.0)\r\n",
      "Requirement already satisfied: typing-extensions>=4.2.0 in /Users/elantsov/miniconda3/envs/ai-wizards/lib/python3.10/site-packages (from pydantic<2,>=1->langchain) (4.6.3)\r\n",
      "Requirement already satisfied: idna<4,>=2.5 in /Users/elantsov/miniconda3/envs/ai-wizards/lib/python3.10/site-packages (from requests<3,>=2->langchain) (3.4)\r\n",
      "Requirement already satisfied: urllib3<1.27,>=1.21.1 in /Users/elantsov/miniconda3/envs/ai-wizards/lib/python3.10/site-packages (from requests<3,>=2->langchain) (1.26.16)\r\n",
      "Requirement already satisfied: certifi>=2017.4.17 in /Users/elantsov/miniconda3/envs/ai-wizards/lib/python3.10/site-packages (from requests<3,>=2->langchain) (2023.5.7)\r\n",
      "Requirement already satisfied: packaging>=17.0 in /Users/elantsov/miniconda3/envs/ai-wizards/lib/python3.10/site-packages (from marshmallow<4.0.0,>=3.3.0->dataclasses-json<0.6.0,>=0.5.7->langchain) (23.0)\r\n",
      "Requirement already satisfied: mypy-extensions>=0.3.0 in /Users/elantsov/miniconda3/envs/ai-wizards/lib/python3.10/site-packages (from typing-inspect>=0.4.0->dataclasses-json<0.6.0,>=0.5.7->langchain) (1.0.0)\r\n",
      "Installing collected packages: python-dotenv\r\n",
      "Successfully installed python-dotenv-1.0.0\r\n"
     ]
    }
   ],
   "source": [
    "!pip install langchain openai python-dotenv"
   ],
   "metadata": {
    "collapsed": false,
    "ExecuteTime": {
     "end_time": "2023-06-28T18:54:13.123823Z",
     "start_time": "2023-06-28T18:54:11.176916Z"
    }
   }
  },
  {
   "cell_type": "code",
   "execution_count": 1,
   "outputs": [
    {
     "data": {
      "text/plain": "{'github-gradle-gcp.yaml': ['gradle', 'gcp', 'github'],\n 'github-gradle-openshift.yaml': ['gradle', 'openshift', 'github'],\n 'github-maven-gcp.yaml': ['maven', 'gcp', 'github'],\n 'github-maven-openshift.yaml': ['maven', 'openshift', 'github'],\n 'github-npm-gcp.yaml': ['npm', 'gcp', 'github'],\n 'github-npm-openshift.yaml': ['npm', 'openshift', 'github'],\n 'jenkins-gradle-gcp.txt': ['gradle', 'gcp', 'jenkins'],\n 'jenkins-gradle-openshift.txt': ['gradle', 'openshift', 'jenkins'],\n 'jenkins-maven-gcp.txt': ['maven', 'gcp', 'jenkins'],\n 'jenkins-maven-openshift.txt': ['maven', 'openshift', 'jenkins'],\n 'jenkins-npm-gcp.txt': ['npm', 'gcp', 'jenkins'],\n 'jenkins-npm-openshift.txt': ['npm', 'openshift', 'jenkins']}"
     },
     "execution_count": 1,
     "metadata": {},
     "output_type": "execute_result"
    }
   ],
   "source": [
    "import json\n",
    "\n",
    "with open('data/tags.json', 'r') as f:\n",
    "    file_tags = json.load(f)\n",
    "file_tags"
   ],
   "metadata": {
    "collapsed": false,
    "ExecuteTime": {
     "end_time": "2023-06-30T21:27:43.503952Z",
     "start_time": "2023-06-30T21:27:33.450377Z"
    }
   }
  },
  {
   "cell_type": "code",
   "execution_count": 2,
   "outputs": [
    {
     "data": {
      "text/plain": "['github-maven-openshift.yaml', 'jenkins-maven-openshift.txt']"
     },
     "execution_count": 2,
     "metadata": {},
     "output_type": "execute_result"
    }
   ],
   "source": [
    "def search_files_by_tags(tags):\n",
    "    return [file_path for file_path, ftags in file_tags.items() if all(tag in ftags for tag in tags)]\n",
    "\n",
    "search_files_by_tags(['maven', 'openshift'])"
   ],
   "metadata": {
    "collapsed": false,
    "ExecuteTime": {
     "end_time": "2023-06-30T21:27:49.364633Z",
     "start_time": "2023-06-30T21:27:49.355312Z"
    }
   }
  },
  {
   "cell_type": "code",
   "execution_count": 11,
   "outputs": [
    {
     "data": {
      "text/plain": "\"pipeline {\\n    agent any\\n\\n    environment {\\n        GCP_PROJECT = 'my-gcp-project' // Replace with your GCP project name\\n        GCP_SERVICE_ACCOUNT_KEY = credentials('gcp-service-account-key') // Replace with your Jenkins credentials ID for GCP service account key\\n        GCP_APP_NAME = 'my-npm-app' // Replace with your GCP App Engine application name\\n    }\\n\\n    stages {\\n        stage('Checkout') {\\n            steps {\\n                checkout scm\\n            }\\n        }\\n\\n        stage('Build') {\\n            steps {\\n                sh 'npm install'\\n                sh 'npm run build'\\n            }\\n        }\\n\\n        stage('Test') {\\n            steps {\\n                sh 'npm test'\\n            }\\n        }\\n\\n        stage('Deploy to GCP') {\\n            steps {\\n                withCredentials([file(credentialsId: 'gcp-service-account-key', variable: 'GCP_KEY_FILE')]) {\\n                    sh 'gcloud auth activate-service-account --key-file=$GCP_KEY_FILE'\\n                    sh 'gcloud config set project $GCP_PROJECT'\\n                    sh 'gcloud app deploy --version=$BUILD_NUMBER --quiet'\\n                }\\n            }\\n        }\\n    }\\n}\\n\""
     },
     "execution_count": 11,
     "metadata": {},
     "output_type": "execute_result"
    }
   ],
   "source": [
    "def get_file_contents_by_tags(tags):\n",
    "    matching_files = search_files_by_tags(tags)\n",
    "    if len(matching_files) == 1:\n",
    "        with open('data/' + matching_files[0], 'r') as f:\n",
    "            return f.read()\n",
    "    else:\n",
    "        return \"Error: The specified tags match more than one file.\"\n",
    "\n",
    "tags = ['npm', 'gcp', 'jenkins']\n",
    "example = get_file_contents_by_tags(tags)\n",
    "example"
   ],
   "metadata": {
    "collapsed": false,
    "ExecuteTime": {
     "end_time": "2023-07-01T20:18:06.130637Z",
     "start_time": "2023-07-01T20:18:06.116240Z"
    }
   }
  },
  {
   "cell_type": "code",
   "execution_count": 46,
   "outputs": [
    {
     "name": "stdout",
     "output_type": "stream",
     "text": [
      "pipeline {\n",
      "    agent any\n",
      "\n",
      "    environment {\n",
      "        GCP_PROJECT = 'my-gcp-project' // Replace with your GCP project name\n",
      "        GCP_SERVICE_ACCOUNT_KEY = credentials('gcp-service-account-key') // Replace with your Jenkins credentials ID for GCP service account key\n",
      "        GCP_APP_NAME = 'my-npm-app' // Replace with your GCP App Engine application name\n",
      "    }\n",
      "\n",
      "    stages {\n",
      "        stage('Checkout') {\n",
      "            steps {\n",
      "                checkout scm\n",
      "            }\n",
      "        }\n",
      "\n",
      "        stage('Build') {\n",
      "            steps {\n",
      "                sh 'npm install'\n",
      "                sh 'npm run build'\n",
      "            }\n",
      "        }\n",
      "\n",
      "        stage('Test') {\n",
      "            steps {\n",
      "                sh 'npm test'\n",
      "            }\n",
      "        }\n",
      "\n",
      "        stage('Deploy to GCP') {\n",
      "            steps {\n",
      "                withCredentials([file(credentialsId: 'gcp-service-account-key', variable: 'GCP_KEY_FILE')]) {\n",
      "                    sh 'gcloud auth activate-service-account --key-file=$GCP_KEY_FILE'\n",
      "                    sh 'gcloud config set project $GCP_PROJECT'\n",
      "                    sh 'gcloud app deploy --version=$BUILD_NUMBER --quiet'\n",
      "                }\n",
      "            }\n",
      "        }\n",
      "    }\n",
      "}\n",
      "\n",
      "###### Questions\n",
      "1. What is the name of your GCP project?\n",
      "2. What is the Jenkins credentials ID for your GCP service account key?\n",
      "3. What is the name of your GCP App Engine application?\n"
     ]
    }
   ],
   "source": [
    "import os\n",
    "from dotenv import load_dotenv\n",
    "from langchain.chat_models import ChatOpenAI\n",
    "from langchain.prompts import (\n",
    "    ChatPromptTemplate,\n",
    "    SystemMessagePromptTemplate,\n",
    "    HumanMessagePromptTemplate,\n",
    "    MessagesPlaceholder\n",
    ")\n",
    "from langchain.chains import ConversationChain\n",
    "from langchain.memory import ConversationBufferMemory\n",
    "\n",
    "load_dotenv()\n",
    "openai_api_key = os.getenv('OPENAI_API_KEY')\n",
    "\n",
    "chat = ChatOpenAI(temperature = 0, openai_api_key=openai_api_key)\n",
    "system_message_prompt = SystemMessagePromptTemplate.from_template_file('data/system_prompt.txt', [])\n",
    "human_message_prompt = HumanMessagePromptTemplate.from_template_file('data/human_prompt.txt', input_variables = ['example']).format_messages(example = example)\n",
    "\n",
    "chat_prompt = ChatPromptTemplate.from_messages(\n",
    "    [system_message_prompt,\n",
    "     MessagesPlaceholder(variable_name='history')] +\n",
    "     human_message_prompt +\n",
    "     [HumanMessagePromptTemplate.from_template(\"{input}\")]\n",
    ")\n",
    "\n",
    "memory = ConversationBufferMemory(return_messages=True)\n",
    "conversation = ConversationChain(memory=memory, prompt=chat_prompt, llm=chat)\n",
    "\n",
    "response = conversation.predict(input = '')\n",
    "\n",
    "print(response)"
   ],
   "metadata": {
    "collapsed": false,
    "ExecuteTime": {
     "end_time": "2023-07-01T21:00:34.830082Z",
     "start_time": "2023-07-01T21:00:22.426530Z"
    }
   }
  },
  {
   "cell_type": "code",
   "execution_count": 47,
   "outputs": [
    {
     "name": "stdout",
     "output_type": "stream",
     "text": [
      "pipeline {\n",
      "    agent any\n",
      "\n",
      "    environment {\n",
      "        GCP_PROJECT = 'test-project'\n",
      "        GCP_SERVICE_ACCOUNT_KEY = credentials('gcp-key')\n",
      "        GCP_APP_NAME = 'my-app'\n",
      "    }\n",
      "\n",
      "    stages {\n",
      "        stage('Checkout') {\n",
      "            steps {\n",
      "                checkout scm\n",
      "            }\n",
      "        }\n",
      "\n",
      "        stage('Build') {\n",
      "            steps {\n",
      "                sh 'npm install'\n",
      "                sh 'npm run build'\n",
      "            }\n",
      "        }\n",
      "\n",
      "        stage('Test') {\n",
      "            steps {\n",
      "                sh 'npm test'\n",
      "            }\n",
      "        }\n",
      "\n",
      "        stage('Deploy to GCP') {\n",
      "            steps {\n",
      "                withCredentials([file(credentialsId: 'gcp-key', variable: 'GCP_KEY_FILE')]) {\n",
      "                    sh 'gcloud auth activate-service-account --key-file=$GCP_KEY_FILE'\n",
      "                    sh 'gcloud config set project $GCP_PROJECT'\n",
      "                    sh 'gcloud app deploy --version=$BUILD_NUMBER --quiet'\n",
      "                }\n",
      "            }\n",
      "        }\n",
      "    }\n",
      "}\n",
      "\n",
      "###### Questions\n",
      "1. Is there any specific branch you want to deploy to GCP or should the pipeline deploy from any branch?\n",
      "2. Do you have any specific requirements for the test stage, such as code coverage or specific test frameworks to use?\n",
      "3. Are there any additional steps or stages you would like to add to the pipeline, such as static code analysis or security scanning?\n"
     ]
    }
   ],
   "source": [
    "print(conversation.run(\"\"\"1. test-project\n",
    "2. gcp-key\n",
    "3. my-app\"\"\"))"
   ],
   "metadata": {
    "collapsed": false,
    "ExecuteTime": {
     "end_time": "2023-07-01T21:01:01.873724Z",
     "start_time": "2023-07-01T21:00:51.509107Z"
    }
   }
  },
  {
   "cell_type": "code",
   "execution_count": 48,
   "outputs": [
    {
     "name": "stdout",
     "output_type": "stream",
     "text": [
      "pipeline {\n",
      "    agent any\n",
      "\n",
      "    environment {\n",
      "        GCP_PROJECT = 'test-project' // Replace with your GCP project name\n",
      "        GCP_SERVICE_ACCOUNT_KEY = credentials('gcp-key') // Replace with your Jenkins credentials ID for GCP service account key\n",
      "        GCP_APP_NAME = 'my-app' // Replace with your GCP App Engine application name\n",
      "    }\n",
      "\n",
      "    stages {\n",
      "        stage('Checkout') {\n",
      "            steps {\n",
      "                checkout scm\n",
      "            }\n",
      "        }\n",
      "\n",
      "        stage('Build') {\n",
      "            steps {\n",
      "                sh 'npm install'\n",
      "                sh 'npm run build'\n",
      "            }\n",
      "        }\n",
      "\n",
      "        stage('Test') {\n",
      "            steps {\n",
      "                sh 'npm test'\n",
      "            }\n",
      "        }\n",
      "\n",
      "        stage('Static Code Analysis') {\n",
      "            steps {\n",
      "                sh 'npm run eslint' // Replace with your ESLint command\n",
      "            }\n",
      "        }\n",
      "\n",
      "        stage('Code Quality') {\n",
      "            steps {\n",
      "                withSonarQubeEnv('SonarQube') {\n",
      "                    sh 'npm run sonar-scanner' // Replace with your SonarQube scanner command\n",
      "                }\n",
      "            }\n",
      "        }\n",
      "\n",
      "        stage('Deploy to GCP') {\n",
      "            when {\n",
      "                branch 'deployment-branch' // Replace with the branch you want to deploy from\n",
      "            }\n",
      "            steps {\n",
      "                withCredentials([file(credentialsId: 'gcp-key', variable: 'GCP_KEY_FILE')]) {\n",
      "                    sh 'gcloud auth activate-service-account --key-file=$GCP_KEY_FILE'\n",
      "                    sh 'gcloud config set project $GCP_PROJECT'\n",
      "                    sh 'gcloud app deploy --version=$BUILD_NUMBER --quiet'\n",
      "                }\n",
      "            }\n",
      "        }\n",
      "    }\n",
      "}\n",
      "\n",
      "###### Questions\n",
      "1. What is the name of the branch you want to deploy to GCP?\n",
      "2. Do you have a specific SonarQube server URL and credentials to use?\n",
      "3. Do you have any specific ESLint rules or configurations to apply?\n"
     ]
    }
   ],
   "source": [
    "print(conversation.run(\"\"\"1. deployment-branch\n",
    "2. SonarQube\n",
    "3. Eslint\"\"\"))"
   ],
   "metadata": {
    "collapsed": false,
    "ExecuteTime": {
     "end_time": "2023-07-01T21:05:58.620742Z",
     "start_time": "2023-07-01T21:05:43.558240Z"
    }
   }
  }
 ],
 "metadata": {
  "kernelspec": {
   "display_name": "Python 3",
   "language": "python",
   "name": "python3"
  },
  "language_info": {
   "codemirror_mode": {
    "name": "ipython",
    "version": 2
   },
   "file_extension": ".py",
   "mimetype": "text/x-python",
   "name": "python",
   "nbconvert_exporter": "python",
   "pygments_lexer": "ipython2",
   "version": "2.7.6"
  }
 },
 "nbformat": 4,
 "nbformat_minor": 0
}
