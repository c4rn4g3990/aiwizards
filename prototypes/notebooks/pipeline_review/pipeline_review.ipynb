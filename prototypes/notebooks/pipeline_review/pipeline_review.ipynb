{
 "cells": [
  {
   "cell_type": "markdown",
   "source": [
    "⚠️ Need to have .env file in the project root with OPENAI_API_KEY={your_openai_key}"
   ],
   "metadata": {
    "collapsed": false
   }
  },
  {
   "cell_type": "code",
   "execution_count": null,
   "outputs": [],
   "source": [
    "!pip install langchain openai python-dotenv"
   ],
   "metadata": {
    "collapsed": false
   }
  },
  {
   "cell_type": "code",
   "execution_count": 7,
   "outputs": [
    {
     "name": "stdout",
     "output_type": "stream",
     "text": [
      "1. Combine the 'Build' and 'Test' stages into a single stage to reduce the number of steps and optimize pipeline execution.\n",
      "2. Move the 'Static Code Analysis' stage before the 'Test' stage to catch any potential issues earlier in the pipeline.\n",
      "3. Consider parallelizing the 'Integration Test' and 'Code Coverage' stages to run them concurrently, if possible, to reduce pipeline execution time.\n",
      "4. Move the 'Package Artifacts' stage before the 'Archive Artifacts' stage to ensure that the artifacts are packaged before archiving them.\n",
      "5. Add a condition in the 'Archive Artifacts' stage to only archive artifacts if the build is successful, to avoid archiving failed builds.\n",
      "6. Consider using a separate stage for deploying to GCP, instead of embedding it within the pipeline, for better separation of concerns.\n",
      "7. Use a separate step for activating the GCP service account instead of doing it in the same step as setting the project, for better readability.\n",
      "8. Consider using a Jenkins plugin for deploying to GCP instead of using command line commands, if available, for easier maintenance and better integration with the Jenkins ecosystem.\n",
      "9. Consider using a separate stage for sending notifications, instead of embedding it within the pipeline, for better separation of concerns.\n",
      "10. Ensure that the necessary plugins and dependencies are installed in the Jenkins environment to support the commands and steps used in the pipeline.\n"
     ]
    }
   ],
   "source": [
    "import os\n",
    "from dotenv import load_dotenv\n",
    "from langchain.chat_models import ChatOpenAI\n",
    "from langchain.prompts import (\n",
    "    ChatPromptTemplate,\n",
    "    SystemMessagePromptTemplate,\n",
    "    HumanMessagePromptTemplate,\n",
    "    MessagesPlaceholder\n",
    ")\n",
    "from langchain.chains import ConversationChain\n",
    "from langchain.memory import ConversationBufferMemory\n",
    "\n",
    "load_dotenv()\n",
    "openai_api_key = os.getenv('OPENAI_API_KEY')\n",
    "\n",
    "with open('data/jenkins-pipeline.txt', 'r') as file:\n",
    "    contents = file.read()\n",
    "\n",
    "chat = ChatOpenAI(model = 'gpt-3.5-turbo-16k-0613', temperature = 0.7, openai_api_key=openai_api_key)\n",
    "system_message_prompt = SystemMessagePromptTemplate.from_template_file('data/system_prompt.txt', [])\n",
    "human_message_prompt = HumanMessagePromptTemplate.from_template_file('data/human_prompt.txt', input_variables = ['pipeline']).format_messages(pipeline = contents)\n",
    "\n",
    "chat_prompt = ChatPromptTemplate.from_messages(\n",
    "    [system_message_prompt,\n",
    "     MessagesPlaceholder(variable_name='history')] +\n",
    "     human_message_prompt +\n",
    "     [HumanMessagePromptTemplate.from_template(\"{input}\")]\n",
    ")\n",
    "\n",
    "memory = ConversationBufferMemory(return_messages=True)\n",
    "conversation = ConversationChain(memory=memory, prompt=chat_prompt, llm=chat)\n",
    "\n",
    "response = conversation.predict(input = '')\n",
    "\n",
    "print(response)"
   ],
   "metadata": {
    "collapsed": false,
    "ExecuteTime": {
     "end_time": "2023-07-02T06:20:29.652168Z",
     "start_time": "2023-07-02T06:20:21.106207Z"
    }
   }
  },
  {
   "cell_type": "code",
   "execution_count": 11,
   "outputs": [
    {
     "name": "stdout",
     "output_type": "stream",
     "text": [
      "1. Combine the 'Build' and 'Test' stages into a single stage to reduce the number of steps and optimize pipeline execution.\n",
      "2. Move the 'Static Code Analysis' stage before the 'Code Quality' stage to catch any potential issues earlier in the pipeline.\n",
      "3. Consider parallelizing the 'Integration Test' and 'Code Coverage' stages to run them concurrently, if possible, to reduce pipeline execution time.\n",
      "5. Add a condition in the 'Archive Artifacts' stage to only archive artifacts if the build is successful, to avoid archiving failed builds.\n",
      "8. Consider using a Jenkins plugin for deploying to GCP instead of using command line commands, if available, for easier maintenance and better integration with the Jenkins ecosystem.\n",
      "10. Ensure that the necessary plugins and dependencies are installed in the Jenkins environment to support the commands and steps used in the pipeline.\n",
      "\n",
      "Updated Pipeline:\n",
      "pipeline {\n",
      "    agent any\n",
      "\n",
      "    environment {\n",
      "        GCP_PROJECT = 'test-project' // Replace with your GCP project name\n",
      "        GCP_SERVICE_ACCOUNT_KEY = credentials('gcp-key') // Replace with your Jenkins credentials ID for GCP service account key\n",
      "        GCP_APP_NAME = 'my-app' // Replace with your GCP App Engine application name\n",
      "    }\n",
      "\n",
      "    stages {\n",
      "        stage('Checkout') {\n",
      "            steps {\n",
      "                checkout scm\n",
      "            }\n",
      "        }\n",
      "\n",
      "        stage('Build, Test, and Static Code Analysis') {\n",
      "            steps {\n",
      "                sh 'npm install && npm run build && npm test && npm run eslint' // Combine build, test, and static code analysis steps\n",
      "            }\n",
      "        }\n",
      "\n",
      "        stage('Code Quality') {\n",
      "            steps {\n",
      "                withSonarQubeEnv('SonarQube') {\n",
      "                    sh 'npm run sonar-scanner' // Replace with your SonarQube scanner command\n",
      "                }\n",
      "            }\n",
      "        }\n",
      "\n",
      "        stage('Integration Test and Code Coverage') {\n",
      "            parallel { // Run integration test and code coverage concurrently\n",
      "                stage('Integration Test') {\n",
      "                    steps {\n",
      "                        sh 'npm run integration-test'\n",
      "                    }\n",
      "                }\n",
      "                stage('Code Coverage') {\n",
      "                    steps {\n",
      "                        sh 'npm run code-coverage'\n",
      "                        publishHTML(target: [reportDir: 'coverage', reportFiles: 'index.html', reportName: 'Code Coverage'])\n",
      "                    }\n",
      "                }\n",
      "            }\n",
      "        }\n",
      "\n",
      "        stage('Package Artifacts') {\n",
      "            steps {\n",
      "                sh 'npm run package'\n",
      "                archiveArtifacts artifacts: 'path/to/package/**', fingerprint: true\n",
      "            }\n",
      "        }\n",
      "\n",
      "        stage('Archive Artifacts') {\n",
      "            when {\n",
      "                expression { currentBuild.result == 'SUCCESS' } // Only archive artifacts if build is successful\n",
      "            }\n",
      "            steps {\n",
      "                archiveArtifacts artifacts: 'path/to/artifacts/**', fingerprint: true\n",
      "            }\n",
      "        }\n",
      "\n",
      "        stage('Deploy to GCP') {\n",
      "            when {\n",
      "                branch 'deployment-branch' // Replace with the branch you want to deploy from\n",
      "            }\n",
      "            steps {\n",
      "                withCredentials([file(credentialsId: 'gcp-key', variable: 'GCP_KEY_FILE')]) {\n",
      "                    sh 'gcloud auth activate-service-account --key-file=$GCP_KEY_FILE'\n",
      "                    sh 'gcloud config set project $GCP_PROJECT'\n",
      "                    sh 'gcloud app deploy --version=$BUILD_NUMBER --quiet'\n",
      "                }\n",
      "            }\n",
      "        }\n",
      "\n",
      "        stage('Notify') {\n",
      "            steps {\n",
      "                emailext body: 'The build is complete. Please check the results.',\n",
      "                    subject: 'Pipeline Notification',\n",
      "                    to: 'your-email@example.com',\n",
      "                    attachLog: true\n",
      "            }\n",
      "        }\n",
      "    }\n",
      "}\n"
     ]
    }
   ],
   "source": [
    "user_prompt_template = \"\"\"Please apply only the items I list below and provide the updated pipeline. The output should contain only the new pipeline without any supportive text above or below the updated pipeline. The output should be easily parseable programmatically.\n",
    "Items I selected: {items}\"\"\"\n",
    "user_prompt = HumanMessagePromptTemplate.from_template(user_prompt_template).format(items = '1,2,3,5,8,10').content\n",
    "print(conversation.predict(input = user_prompt))"
   ],
   "metadata": {
    "collapsed": false,
    "ExecuteTime": {
     "end_time": "2023-07-02T06:24:42.812094Z",
     "start_time": "2023-07-02T06:24:24.633850Z"
    }
   }
  }
 ],
 "metadata": {
  "kernelspec": {
   "display_name": "Python 3",
   "language": "python",
   "name": "python3"
  },
  "language_info": {
   "codemirror_mode": {
    "name": "ipython",
    "version": 2
   },
   "file_extension": ".py",
   "mimetype": "text/x-python",
   "name": "python",
   "nbconvert_exporter": "python",
   "pygments_lexer": "ipython2",
   "version": "2.7.6"
  }
 },
 "nbformat": 4,
 "nbformat_minor": 0
}
